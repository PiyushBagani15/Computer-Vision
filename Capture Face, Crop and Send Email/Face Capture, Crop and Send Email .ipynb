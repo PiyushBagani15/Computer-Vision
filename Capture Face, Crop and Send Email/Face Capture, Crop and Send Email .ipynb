{
 "cells": [
  {
   "cell_type": "markdown",
   "metadata": {},
   "source": [
    "# Task Description\n",
    "\n",
    "\n",
    "🔰Created a python code that will monitor the premises, and as soon as it detects any person face it will send a mail with the front face of the person to the owner.\n",
    "\n",
    "Technologies used:- Machine Learning, Image processing.\n",
    "\n",
    "\n",
    "✔ Key Points:\n",
    "1. Whenever it detects face then and then only it will click the photo.\n",
    "2. The clicked photo is processed and only the face is cropped.\n",
    "3. The cropped photo is sent in email"
   ]
  },
  {
   "cell_type": "code",
   "execution_count": 6,
   "metadata": {},
   "outputs": [
    {
     "name": "stdout",
     "output_type": "stream",
     "text": [
      "Image saved\n",
      "Image saved\n"
     ]
    }
   ],
   "source": [
    "import cv2\n",
    "from PIL import Image \n",
    "# Load the cascade\n",
    "face_cascade = cv2.CascadeClassifier('haarcascade_frontalface_default.xml')\n",
    "\n",
    "# To capture video from webcam. \n",
    "cap = cv2.VideoCapture(0)\n",
    "# To use a video file as input \n",
    "# cap = cv2.VideoCapture('filename.mp4')\n",
    "\n",
    "count = 1\n",
    "while True:\n",
    "    # Read the frame\n",
    "    ret, img = cap.read()\n",
    "\n",
    "    # Convert to grayscale\n",
    "    gray = cv2.cvtColor(img, cv2.COLOR_BGR2GRAY)\n",
    "\n",
    "    # Detect the faces\n",
    "    faces = face_cascade.detectMultiScale(gray)\n",
    "\n",
    "    # Draw the rectangle around each face\n",
    "    for (x, y, w, h) in faces:\n",
    "        cv2.rectangle(img, (x, y), (x+w, y+h), (255, 0, 0), 2)\n",
    "\n",
    "    # Display\n",
    "        cv2.imshow('img', img)\n",
    "        #t = time.strftime(\"%Y-%m-%D_%H-%M-%S\")\n",
    "        if count<3:\n",
    "            cv2.imwrite('myimage{}.jpg'.format(count),img)\n",
    "            print(\"Image saved\")\n",
    "        count=count+1\n",
    "    # Stop if enter key is pressed\n",
    "    \n",
    "    if cv2.waitKey(20) == 13:\n",
    "        break\n",
    "# Release the VideoCapture object\n",
    "cap.release()\n",
    "# Destroy all windows\n",
    "cv2.destroyAllWindows()\n",
    "#Now Here open the and Crop it\n",
    "img_open = Image.open(\"myimage1.jpg\") #we can do this for image 2 also\n",
    "im = img_open.crop((x, y, x+w, y+h))\n",
    "#im.show()\n",
    "im.save('crop.png') #finally Cropped image saved \n",
    "\n"
   ]
  },
  {
   "cell_type": "code",
   "execution_count": 7,
   "metadata": {},
   "outputs": [
    {
     "name": "stdout",
     "output_type": "stream",
     "text": [
      "Type your password and press enter:········\n",
      "Mail Sent Successfully\n"
     ]
    }
   ],
   "source": [
    "#sending Mail\n",
    "import email, smtplib, ssl, getpass\n",
    "from email import encoders\n",
    "from email.mime.base import MIMEBase\n",
    "from email.mime.multipart import MIMEMultipart\n",
    "from email.mime.text import MIMEText\n",
    "\n",
    "subject =  'ALERT ALERT ALERT' \n",
    "body = \"This is an email with image who is detected in the security camera\"\n",
    "sender_email = \"baganipiyush@gmail.com\"\n",
    "receiver_email = \"piyushbagani@gmail.com\"\n",
    "password = getpass.getpass(\"Type your password and press enter:\") #input the password(used alias of password by generating the password from Google Account)\n",
    "\n",
    "# Create a multipart message and set headers\n",
    "message = MIMEMultipart()\n",
    "message[\"From\"] = sender_email\n",
    "message[\"To\"] = receiver_email\n",
    "message[\"Subject\"] = subject\n",
    "message[\"Bcc\"] = receiver_email  # Recommended for mass emails\n",
    "\n",
    "# Add body to email\n",
    "message.attach(MIMEText(body, \"plain\"))\n",
    "\n",
    "filename = \"crop.png\"  # Must be In same directory as script\n",
    "\n",
    "# Open file in binary mode\n",
    "with open(filename, \"rb\") as attachment:\n",
    "    # Add file as application/octet-stream\n",
    "    # Email client can usually download this automatically as attachment\n",
    "    part = MIMEBase(\"application\", \"octet-stream\")\n",
    "    part.set_payload(attachment.read())\n",
    "\n",
    "# Encode file in ASCII characters to send by email    \n",
    "encoders.encode_base64(part)\n",
    "\n",
    "# Add header as key/value pair to attachment part\n",
    "part.add_header(\n",
    "    \"Content-Disposition\",\n",
    "    f\"attachment; filename= {filename}\",\n",
    ")\n",
    "\n",
    "# Add attachment to message and convert message to string\n",
    "message.attach(part)\n",
    "text = message.as_string()\n",
    "\n",
    "# Log in to server using secure context and send email\n",
    "context = ssl.create_default_context()\n",
    "with smtplib.SMTP_SSL(\"smtp.gmail.com\", 465, context=context) as server:\n",
    "    server.login(sender_email, password)\n",
    "    server.sendmail(sender_email, receiver_email, text)\n",
    "    \n",
    "    \n",
    "print(\"Mail Sent Successfully\")"
   ]
  },
  {
   "cell_type": "code",
   "execution_count": 6,
   "metadata": {},
   "outputs": [],
   "source": [
    "\n"
   ]
  },
  {
   "cell_type": "code",
   "execution_count": null,
   "metadata": {},
   "outputs": [],
   "source": []
  }
 ],
 "metadata": {
  "kernelspec": {
   "display_name": "Python 3",
   "language": "python",
   "name": "python3"
  },
  "language_info": {
   "codemirror_mode": {
    "name": "ipython",
    "version": 3
   },
   "file_extension": ".py",
   "mimetype": "text/x-python",
   "name": "python",
   "nbconvert_exporter": "python",
   "pygments_lexer": "ipython3",
   "version": "3.8.5"
  }
 },
 "nbformat": 4,
 "nbformat_minor": 4
}
