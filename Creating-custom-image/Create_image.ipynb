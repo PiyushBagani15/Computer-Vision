{
 "cells": [
  {
   "cell_type": "markdown",
   "metadata": {},
   "source": [
    "# Create image by yourself Using Python Code "
   ]
  },
  {
   "cell_type": "code",
   "execution_count": 2,
   "metadata": {},
   "outputs": [],
   "source": [
    "import cv2\n",
    "import numpy as np"
   ]
  },
  {
   "cell_type": "code",
   "execution_count": 3,
   "metadata": {},
   "outputs": [],
   "source": [
    "#creating our custom image\n",
    "custom_image_1 = np.zeros((500,500,3))\n",
    "custom_image_2 = np.zeros((500,500,3))"
   ]
  },
  {
   "cell_type": "code",
   "execution_count": 8,
   "metadata": {},
   "outputs": [],
   "source": [
    "#showing Image 1\n",
    "cv2.imshow(\"custom_image_before\",custom_image_1)\n",
    "cv2.waitKey()\n",
    "cv2.destroyAllWindows()\n",
    "#showing image 2\n",
    "cv2.imshow(\"custom_image_before\",custom_image_2)\n",
    "cv2.waitKey()\n",
    "cv2.destroyAllWindows()"
   ]
  },
  {
   "cell_type": "code",
   "execution_count": 9,
   "metadata": {},
   "outputs": [],
   "source": [
    "#created white blocks in custom_images\n",
    "for i in range(0,249):\n",
    "    for j in range(0,249):\n",
    "        custom_image_1[i][j] = 255\n",
    "for i in range(250,499):\n",
    "    for j in range(250,499):\n",
    "        custom_image_2[i][j] = 255"
   ]
  },
  {
   "cell_type": "code",
   "execution_count": 11,
   "metadata": {},
   "outputs": [],
   "source": [
    "#showing image 1 (after)\n",
    "cv2.imshow(\"custom_image_after\",custom_image_1)\n",
    "cv2.waitKey()\n",
    "cv2.destroyAllWindows()\n",
    "#showing image 2 (after)\n",
    "cv2.imshow(\"custom_image_after\",custom_image_2)\n",
    "cv2.waitKey()\n",
    "cv2.destroyAllWindows()"
   ]
  },
  {
   "cell_type": "code",
   "execution_count": 17,
   "metadata": {},
   "outputs": [],
   "source": [
    "#pattern highliting\n",
    "import time\n",
    "i=1\n",
    "while True: \n",
    "    if(i%2!=0):\n",
    "        cv2.imshow(\"pattern_highlight\",custom_image_1)\n",
    "    else:\n",
    "        cv2.imshow(\"pattern_highlight\",custom_image_2)\n",
    "    if cv2.waitKey(20)==13:\n",
    "        break\n",
    "    i=i+1\n",
    "    time.sleep(0.7)\n",
    "cv2.destroyAllWindows()"
   ]
  },
  {
   "cell_type": "code",
   "execution_count": null,
   "metadata": {},
   "outputs": [],
   "source": []
  }
 ],
 "metadata": {
  "kernelspec": {
   "display_name": "Python 3",
   "language": "python",
   "name": "python3"
  },
  "language_info": {
   "codemirror_mode": {
    "name": "ipython",
    "version": 3
   },
   "file_extension": ".py",
   "mimetype": "text/x-python",
   "name": "python",
   "nbconvert_exporter": "python",
   "pygments_lexer": "ipython3",
   "version": "3.8.5"
  }
 },
 "nbformat": 4,
 "nbformat_minor": 4
}
